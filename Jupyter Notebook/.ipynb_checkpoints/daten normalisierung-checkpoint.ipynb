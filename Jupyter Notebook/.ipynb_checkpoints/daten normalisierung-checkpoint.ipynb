{
 "cells": [
  {
   "cell_type": "markdown",
   "metadata": {},
   "source": [
    "# Datennormalisierung am Beispiel von BPM:"
   ]
  },
  {
   "cell_type": "code",
   "execution_count": 1,
   "metadata": {},
   "outputs": [],
   "source": [
    "import pandas as pd\n",
    "\n",
    "daten = pd.read_csv('../PyCharm/daten.csv')"
   ]
  },
  {
   "cell_type": "code",
   "execution_count": 2,
   "metadata": {},
   "outputs": [
    {
     "data": {
      "text/html": [
       "<div>\n",
       "<style scoped>\n",
       "    .dataframe tbody tr th:only-of-type {\n",
       "        vertical-align: middle;\n",
       "    }\n",
       "\n",
       "    .dataframe tbody tr th {\n",
       "        vertical-align: top;\n",
       "    }\n",
       "\n",
       "    .dataframe thead th {\n",
       "        text-align: right;\n",
       "    }\n",
       "</style>\n",
       "<table border=\"1\" class=\"dataframe\">\n",
       "  <thead>\n",
       "    <tr style=\"text-align: right;\">\n",
       "      <th></th>\n",
       "      <th>BPM</th>\n",
       "      <th>rolloff</th>\n",
       "      <th>rms_durschschnitt</th>\n",
       "      <th>zcr</th>\n",
       "    </tr>\n",
       "  </thead>\n",
       "  <tbody>\n",
       "    <tr>\n",
       "      <th>count</th>\n",
       "      <td>377.000000</td>\n",
       "      <td>377.000000</td>\n",
       "      <td>377.000000</td>\n",
       "      <td>377.000000</td>\n",
       "    </tr>\n",
       "    <tr>\n",
       "      <th>mean</th>\n",
       "      <td>124.183774</td>\n",
       "      <td>5043.560108</td>\n",
       "      <td>0.216335</td>\n",
       "      <td>73642.793103</td>\n",
       "    </tr>\n",
       "    <tr>\n",
       "      <th>std</th>\n",
       "      <td>28.802562</td>\n",
       "      <td>1283.493778</td>\n",
       "      <td>0.090464</td>\n",
       "      <td>23751.713661</td>\n",
       "    </tr>\n",
       "    <tr>\n",
       "      <th>min</th>\n",
       "      <td>63.024009</td>\n",
       "      <td>1381.591646</td>\n",
       "      <td>0.021208</td>\n",
       "      <td>18874.000000</td>\n",
       "    </tr>\n",
       "    <tr>\n",
       "      <th>25%</th>\n",
       "      <td>99.384014</td>\n",
       "      <td>4370.556905</td>\n",
       "      <td>0.143417</td>\n",
       "      <td>54782.000000</td>\n",
       "    </tr>\n",
       "    <tr>\n",
       "      <th>50%</th>\n",
       "      <td>123.046875</td>\n",
       "      <td>5241.001642</td>\n",
       "      <td>0.221881</td>\n",
       "      <td>74261.000000</td>\n",
       "    </tr>\n",
       "    <tr>\n",
       "      <th>75%</th>\n",
       "      <td>143.554688</td>\n",
       "      <td>5963.188941</td>\n",
       "      <td>0.289357</td>\n",
       "      <td>89899.000000</td>\n",
       "    </tr>\n",
       "    <tr>\n",
       "      <th>max</th>\n",
       "      <td>215.332031</td>\n",
       "      <td>7920.268774</td>\n",
       "      <td>0.456676</td>\n",
       "      <td>164901.000000</td>\n",
       "    </tr>\n",
       "  </tbody>\n",
       "</table>\n",
       "</div>"
      ],
      "text/plain": [
       "              BPM      rolloff  rms_durschschnitt            zcr\n",
       "count  377.000000   377.000000         377.000000     377.000000\n",
       "mean   124.183774  5043.560108           0.216335   73642.793103\n",
       "std     28.802562  1283.493778           0.090464   23751.713661\n",
       "min     63.024009  1381.591646           0.021208   18874.000000\n",
       "25%     99.384014  4370.556905           0.143417   54782.000000\n",
       "50%    123.046875  5241.001642           0.221881   74261.000000\n",
       "75%    143.554688  5963.188941           0.289357   89899.000000\n",
       "max    215.332031  7920.268774           0.456676  164901.000000"
      ]
     },
     "execution_count": 2,
     "metadata": {},
     "output_type": "execute_result"
    }
   ],
   "source": [
    "daten.describe()"
   ]
  },
  {
   "cell_type": "markdown",
   "metadata": {},
   "source": [
    "mit min() und max() bekomme ich die minimum und maximum werte des Features."
   ]
  },
  {
   "cell_type": "code",
   "execution_count": 6,
   "metadata": {},
   "outputs": [
    {
     "data": {
      "text/plain": [
       "63.024009146341456"
      ]
     },
     "execution_count": 6,
     "metadata": {},
     "output_type": "execute_result"
    }
   ],
   "source": [
    "min(daten[\"BPM\"])"
   ]
  },
  {
   "cell_type": "code",
   "execution_count": 7,
   "metadata": {},
   "outputs": [
    {
     "data": {
      "text/plain": [
       "215.33203125"
      ]
     },
     "execution_count": 7,
     "metadata": {},
     "output_type": "execute_result"
    }
   ],
   "source": [
    "max(daten[\"BPM\"])"
   ]
  },
  {
   "attachments": {},
   "cell_type": "markdown",
   "metadata": {},
   "source": [
    "Die Werte in der BPM Spalte normalisieren:\n",
    "(mit Min-Max normalisierung)"
   ]
  },
  {
   "cell_type": "code",
   "execution_count": 12,
   "metadata": {},
   "outputs": [],
   "source": [
    "BPM_n = []\n",
    "for i in daten[\"BPM\"]:\n",
    "    BPM_n.append((i - min(daten[\"BPM\"]))/(max(daten[\"BPM\"]) - min(daten[\"BPM\"])))\n",
    "    "
   ]
  }
 ],
 "metadata": {
  "kernelspec": {
   "display_name": "Python 3",
   "language": "python",
   "name": "python3"
  },
  "language_info": {
   "codemirror_mode": {
    "name": "ipython",
    "version": 3
   },
   "file_extension": ".py",
   "mimetype": "text/x-python",
   "name": "python",
   "nbconvert_exporter": "python",
   "pygments_lexer": "ipython3",
   "version": "3.8.3"
  }
 },
 "nbformat": 4,
 "nbformat_minor": 4
}
